{
  "nbformat": 4,
  "nbformat_minor": 0,
  "metadata": {
    "colab": {
      "name": "MNIST_SGD.ipynb",
      "provenance": [],
      "include_colab_link": true
    },
    "kernelspec": {
      "name": "python3",
      "display_name": "Python 3"
    },
    "language_info": {
      "name": "python"
    }
  },
  "cells": [
    {
      "cell_type": "markdown",
      "metadata": {
        "id": "view-in-github",
        "colab_type": "text"
      },
      "source": [
        "<a href=\"https://colab.research.google.com/github/kian79/MNIST_NN/blob/main/MNIST_SGD.ipynb\" target=\"_parent\"><img src=\"https://colab.research.google.com/assets/colab-badge.svg\" alt=\"Open In Colab\"/></a>"
      ]
    },
    {
      "cell_type": "markdown",
      "metadata": {
        "id": "g8KlXpSE_71D"
      },
      "source": [
        "## فراخوانی کتابخانه‌های موردنیاز"
      ]
    },
    {
      "cell_type": "code",
      "metadata": {
        "id": "UL1c5gdZ8Wna"
      },
      "source": [
        "from sklearn.datasets import fetch_openml\n",
        "import os\n",
        "import pandas as pd\n",
        "import numpy as np\n",
        "import matplotlib.pyplot as plt\n",
        "mnist = fetch_openml('mnist_784', version=1)\n",
        "from tqdm import tqdm"
      ],
      "execution_count": null,
      "outputs": []
    },
    {
      "cell_type": "markdown",
      "metadata": {
        "id": "YVnmzvfcABVl"
      },
      "source": [
        "گرفتن داده ورودی و برچسب آن"
      ]
    },
    {
      "cell_type": "code",
      "metadata": {
        "id": "9evcrxdQ8ln-"
      },
      "source": [
        "X, y = mnist[\"data\"], mnist[\"target\"]\n",
        "y = y.astype(np.uint8)"
      ],
      "execution_count": null,
      "outputs": []
    },
    {
      "cell_type": "markdown",
      "metadata": {
        "id": "Fe8kFOBZAIFz"
      },
      "source": [
        "تغییر اسکیل داده ورودی به اعدادی بین ۰تا۲۵۵"
      ]
    },
    {
      "cell_type": "code",
      "metadata": {
        "id": "zFcohgrX-Ci6"
      },
      "source": [
        "X_scaled = X/256"
      ],
      "execution_count": null,
      "outputs": []
    },
    {
      "cell_type": "code",
      "metadata": {
        "id": "obyKqg64soFz"
      },
      "source": [
        "all_set = []\n",
        "for i in range(len(y)):\n",
        "  label = np.zeros((10,1))\n",
        "  label[y[i],0] = 1\n",
        "  all_set.append((X_scaled[i],label))"
      ],
      "execution_count": null,
      "outputs": []
    },
    {
      "cell_type": "markdown",
      "metadata": {
        "id": "Pr3odyHYAVPX"
      },
      "source": [
        "جدا کردن داده تست و ترین"
      ]
    },
    {
      "cell_type": "code",
      "metadata": {
        "id": "TuME8et18n0q"
      },
      "source": [
        "X_train, X_test, y_train, y_test, train_set, test_set = X_scaled[:60000], X_scaled[60000:], y[:60000], y[60000:], all_set[:60000], all_set[60000:]"
      ],
      "execution_count": null,
      "outputs": []
    },
    {
      "cell_type": "markdown",
      "metadata": {
        "id": "beRijKTZAYio"
      },
      "source": [
        "تابعی برای نمایش تصاویر و برچسب آن‌ها"
      ]
    },
    {
      "cell_type": "code",
      "metadata": {
        "id": "PMT4D4QX82M-"
      },
      "source": [
        "def show_img(img_index, X1, y1):\n",
        "  some_digit = X1[img_index]\n",
        "  some_digit_image = some_digit.reshape(28, 28)\n",
        "  plt.imshow(some_digit_image, cmap=\"binary\")\n",
        "  print(y1[img_index])\n",
        "  plt.axis(\"off\")\n",
        "  plt.show()"
      ],
      "execution_count": null,
      "outputs": []
    },
    {
      "cell_type": "code",
      "metadata": {
        "colab": {
          "base_uri": "https://localhost:8080/",
          "height": 266
        },
        "id": "ST3sA8p69BMa",
        "outputId": "1ac00dc5-ca0c-4375-c2d1-35377da2ad33"
      },
      "source": [
        "show_img(54321,X,y)"
      ],
      "execution_count": null,
      "outputs": [
        {
          "output_type": "stream",
          "text": [
            "9\n"
          ],
          "name": "stdout"
        },
        {
          "output_type": "display_data",
          "data": {
            "image/png": "[encoded data removed]",
            "text/plain": [
              "<Figure size 432x288 with 1 Axes>"
            ]
          },
          "metadata": {
            "tags": [],
            "needs_background": "light"
          }
        }
      ]
    },
    {
      "cell_type": "markdown",
      "metadata": {
        "id": "OL1Dme-TAg-d"
      },
      "source": [
        "تابع انجام الگوریتم با کمک حلقه و بدون وکتوریزیشن.\n",
        "این الگوریتم با حلقه بسیار زیاد طول میکشد به همین خاطر با ۱۰۰داده‌ی اول فقط آن‌ را تست میکنیم."
      ]
    },
    {
      "cell_type": "code",
      "metadata": {
        "id": "OeQFoUB-uTSg"
      },
      "source": [
        "def SGD(train_set,W,b):\n",
        "  batch_size = 10\n",
        "  learning_rate = 1\n",
        "  number_of_epochs = 20\n",
        "  my_set = train_set[:100]\n",
        "  for i in range(number_of_epochs):\n",
        "    print(i)\n",
        "    np.random.shuffle(my_set)\n",
        "    batchs = []\n",
        "    for i1 in range(0,len(my_set),batch_size):\n",
        "      batchs.append(my_set[i1:i1+batch_size])\n",
        "    for batch in batchs:\n",
        "      # b_grad = []\n",
        "      W2_grad = np.zeros((10,16))\n",
        "      b2_grad = np.zeros((10,1))\n",
        "      a2_grad = np.zeros((16,1))\n",
        "      W1_grad = np.zeros((16,16))\n",
        "      b1_grad = np.zeros((16,1))\n",
        "      a1_grad = np.zeros((16,1))\n",
        "      W0_grad = np.zeros((16,784))\n",
        "      b0_grad = np.zeros((16,1))\n",
        "      W_grad = [W0_grad, W1_grad, W2_grad]\n",
        "      b_grad = [b0_grad, b1_grad, b2_grad]\n",
        "      for image in batch:\n",
        "        x = image[0]\n",
        "        y = image[1]\n",
        "        a, z = calculate_output(x,W,b)\n",
        "        for j in range(10):\n",
        "          b_grad[2][j,0] += 2*(a[2][j,0]-y[j])*sigmoid_deriv(z[2][j,0])\n",
        "          for k in range(16):\n",
        "            W_grad[2][j][k] += 2*(a[2][j,0]-y[j])*sigmoid_deriv(z[2][j,0])*a[1][k,0]\n",
        "        for k in range(16):\n",
        "          for j in range(10):\n",
        "            a2_grad[k,0] += sigmoid_deriv(z[2][j,0])*W[2][j,k]*2*(a[2][j,0]-y[j])\n",
        "        for j in range(16):\n",
        "          b_grad[1][j,0] += a2_grad[j,0]*sigmoid_deriv(z[1][j,0])\n",
        "          for k in range(16):\n",
        "            W_grad[1][j][k] += a2_grad[j,0]*sigmoid_deriv(z[1][j,0])*a[1][k,0]\n",
        "        for k in range(16):\n",
        "          for j in range(16):\n",
        "            a1_grad[k,0] += a2_grad[j,0]*sigmoid_deriv(z[1][j,0])*W[1][j,k]\n",
        "        for j in range(16):\n",
        "          b_grad[0][j,0] += a1_grad[j,0]*sigmoid_deriv(z[0][j,0])\n",
        "          for k in range(784):\n",
        "            W_grad[0][j][k] += a1_grad[j,0]*sigmoid_deriv(z[0][j,0])*x[k]\n",
        "      for j in range(10):\n",
        "        b[2][j,0] = b[2][j,0] - learning_rate*(b_grad[2][j,0]/batch_size)\n",
        "        for k in range(16):\n",
        "          W[2][j,k] = W[2][j,k] - learning_rate*(W_grad[2][j][k]/batch_size)\n",
        "      for j in range(16):\n",
        "        b[1][j,0] = b[1][j,0] - learning_rate*(b_grad[1][j,0]/batch_size)\n",
        "        for k in range(16):\n",
        "          W[1][j,k] = W[1][j,k] - learning_rate*(W_grad[1][j,k]/batch_size)\n",
        "      for j in range(16):\n",
        "        b[0][j,0] = b[0][j,0] - learning_rate*(b_grad[0][j,0]/batch_size)\n",
        "        for k in range(784):\n",
        "          W[0][j,k] = W[0][j,k] - learning_rate*(W_grad[0][j,k]/batch_size)\n",
        "  return W,b"
      ],
      "execution_count": null,
      "outputs": []
    },
    {
      "cell_type": "markdown",
      "metadata": {
        "id": "w5xHF6_gApN-"
      },
      "source": [
        "تابع محاسبه‌ی سیگموید و مشتق آن.\n",
        "برای آنکه اورفلو نکند و به ارور نخوریم برای محاسبه‌ی سیگموید دو حالت در نظر گرفته‌ایم"
      ]
    },
    {
      "cell_type": "code",
      "metadata": {
        "id": "AWYh_oxaBUUY"
      },
      "source": [
        "import math\n",
        "def sigmoid(gamma):\n",
        "  if gamma < 0:\n",
        "    return 1 - 1/(1 + math.exp(gamma))\n",
        "  else:\n",
        "    return 1/(1 + math.exp(-gamma))\n",
        "sigmoid = np.vectorize(sigmoid)\n",
        "\n",
        "def sigmoid_deriv(x):\n",
        "  return sigmoid(x)*(1-sigmoid(x))"
      ],
      "execution_count": null,
      "outputs": []
    },
    {
      "cell_type": "markdown",
      "metadata": {
        "id": "Q9HMpuZJAwbq"
      },
      "source": [
        "این تابع هربار وزن‌ها و بایاس‌ها را با کمک اعداد رندوم در توزیع نرمال محاسبه میکند."
      ]
    },
    {
      "cell_type": "code",
      "metadata": {
        "id": "Nb64wot7K3FH"
      },
      "source": [
        "def generate_rand():\n",
        "  W0 = np.random.randn(16,784)\n",
        "  b0 = np.random.randn(16,1)\n",
        "  # np.zeros((16,1))\n",
        "  W1 = np.random.randn(16,16)\n",
        "  b1 = np.random.randn(16,1)\n",
        "  b2 = np.random.randn(10,1)\n",
        "  W2 = np.random.randn(10,16)\n",
        "  W = [W0,W1,W2]\n",
        "  b = [b0,b1,b2]\n",
        "  return W,b  "
      ],
      "execution_count": null,
      "outputs": []
    },
    {
      "cell_type": "markdown",
      "metadata": {
        "id": "L7GStcAbA1wx"
      },
      "source": [
        "این تابع خروجی را به ازای یک تصویر و وزن و بایاس ورودی محاسبه کرده و خروجی تمام نودهای هر مرحله را پس از اعمال سیگموید و قبل از آن برمیگرداند."
      ]
    },
    {
      "cell_type": "code",
      "metadata": {
        "id": "9l3cQY7u8y-d"
      },
      "source": [
        "def calculate_output(x,W,b):\n",
        "  z = [0,0,0]\n",
        "  a = [0,0,0]\n",
        "  z[0] = np.matmul(W[0], x).reshape(16,1)+b[0]\n",
        "  a[0] = sigmoid(z[0])\n",
        "  z[1] = np.matmul(W[1], a[0]).reshape(16,1)+b[1]\n",
        "  a[1] = sigmoid(z[1])\n",
        "  z[2] = np.matmul(W[2], a[1]).reshape(10,1)+b[2]\n",
        "  a[2] = sigmoid(z[2])\n",
        "  return a,z\n"
      ],
      "execution_count": null,
      "outputs": []
    },
    {
      "cell_type": "markdown",
      "metadata": {
        "id": "Ehyxi1VWA_dh"
      },
      "source": [
        "این تابع هزینه را محاسبه میکند به این شکل که مربع مجموع اختلاف از عدد واقعی را برای نودهای مرحله‌ی آخر به ما میدهد."
      ]
    },
    {
      "cell_type": "code",
      "metadata": {
        "id": "Cs60cXzSD4-4"
      },
      "source": [
        "def calculate_cost(a,y):\n",
        "  cost = 0\n",
        "  for i in range(10):\n",
        "    cost += (a[i] - y[i])**2\n",
        "  return cost"
      ],
      "execution_count": null,
      "outputs": []
    },
    {
      "cell_type": "markdown",
      "metadata": {
        "id": "-7M9o3nfBHB0"
      },
      "source": [
        "همان الگوریتم است فقط در اینجا بجای استفاده از حلقه به کمک وکتوریزیشن و کتابخانه‌ی نامپای محاسبات را انجام داده‌ایم تا سرعت اجرای آن بیشتر شود."
      ]
    },
    {
      "cell_type": "code",
      "metadata": {
        "id": "t1hlhoIf-rRf"
      },
      "source": [
        "def V_SGD(train_set, batch_size, learning_rate,number_of_epochs,end):\n",
        "  # batch_size = 10\n",
        "  # learning_rate = 1\n",
        "  # number_of_epochs = 40\n",
        "  W, b = generate_rand()\n",
        "  costs = []\n",
        "  my_set = train_set[:end].copy()\n",
        "  # print(len(my_set))\n",
        "  for i in tqdm(range(number_of_epochs)):\n",
        "    cost = 0\n",
        "    # print(i)\n",
        "    np.random.shuffle(my_set)\n",
        "    batchs = []\n",
        "    for i1 in range(0,len(my_set),batch_size):\n",
        "      batchs.append(my_set[i1:i1+batch_size])\n",
        "    # print(f\"len batch {len(batchs)}\")\n",
        "    for batch in batchs:\n",
        "      W2_grad = np.zeros((10,16))\n",
        "      b2_grad = np.zeros((10,1))\n",
        "      a2_grad = np.zeros((16,1))\n",
        "      W1_grad = np.zeros((16,16))\n",
        "      b1_grad = np.zeros((16,1))\n",
        "      a1_grad = np.zeros((16,1))\n",
        "      W0_grad = np.zeros((16,784))\n",
        "      b0_grad = np.zeros((16,1))\n",
        "      W_grad = [W0_grad, W1_grad, W2_grad]\n",
        "      b_grad = [b0_grad, b1_grad, b2_grad]\n",
        "      for image in batch:\n",
        "        x = image[0]\n",
        "        y = image[1]\n",
        "        # print(f\"y : {np.argmax(y)}\")\n",
        "        a, z = calculate_output(x,W,b)\n",
        "        # print(f\"pred : {np.argmax(a[2])}\")\n",
        "        cost += calculate_cost(a[2],y)\n",
        "        b_grad[2] += 2*sigmoid_deriv(z[2])*(a[2]-y)\n",
        "        W_grad[2] += (2*sigmoid_deriv(z[2])*(a[2]-y)) @ np.transpose(a[1])\n",
        "        a2_grad += np.transpose(W[2]) @ (2*sigmoid_deriv(z[2]) * (a[2]-y))\n",
        "        b_grad[1] += a2_grad * sigmoid_deriv(z[1])\n",
        "        W_grad[1] += a2_grad * sigmoid_deriv(z[1]) @ np.transpose(a[0])\n",
        "        a1_grad += np.transpose(W[1]) @ (a2_grad * sigmoid_deriv(z[1]))\n",
        "        b_grad[0] += a1_grad * sigmoid_deriv(z[0])\n",
        "        x = x.reshape(784,1)\n",
        "        W_grad[0] += (a1_grad * sigmoid_deriv(z[0])) @ np.transpose(x)\n",
        "      b[2] = b[2] - learning_rate * (b_grad[2]/batch_size)\n",
        "      W[2] = W[2] - learning_rate * (W_grad[2]/batch_size)\n",
        "      b[1] = b[1] - learning_rate * (b_grad[1]/batch_size)\n",
        "      W[1] = W[1] - learning_rate * (W_grad[1]/batch_size)\n",
        "      b[0] = b[0] - learning_rate * (b_grad[0]/batch_size)\n",
        "      W[0] = W[0] - learning_rate * (W_grad[0]/batch_size)\n",
        "    costs.append(cost/len(my_set))\n",
        "  return W,b,costs"
      ],
      "execution_count": null,
      "outputs": []
    },
    {
      "cell_type": "markdown",
      "metadata": {
        "id": "7VZHHG7VtVY3"
      },
      "source": [
        "حال برای ۱۰۰ داده‌ی اول با تعداد ۲۰۰ ایپاک و بچ سایز ۱۰ و لرنینگ ریت ۱ الگوریتم را تست میکنیم."
      ]
    },
    {
      "cell_type": "code",
      "metadata": {
        "colab": {
          "base_uri": "https://localhost:8080/"
        },
        "id": "sgxcLXzgC1He",
        "outputId": "2409ff8f-55cf-436b-84fe-6fb873935db2"
      },
      "source": [
        "W_f, b_f, costs = V_SGD(train_set, batch_size = 10, learning_rate = 1, number_of_epochs = 200, end = 100)"
      ],
      "execution_count": null,
      "outputs": [
        {
          "output_type": "stream",
          "text": [
            "100%|██████████| 200/200 [00:23<00:00,  8.42it/s]\n"
          ],
          "name": "stderr"
        }
      ]
    },
    {
      "cell_type": "markdown",
      "metadata": {
        "id": "BIsN88Bstavz"
      },
      "source": [
        "نمودار خطای الگوریتم را رسم میکنیم که به وضوح نزولی است."
      ]
    },
    {
      "cell_type": "code",
      "metadata": {
        "colab": {
          "base_uri": "https://localhost:8080/",
          "height": 283
        },
        "id": "7Cd1JkBOFdUi",
        "outputId": "183e70c9-ad4b-4a82-a32e-97827b7da8d5"
      },
      "source": [
        "plt.plot(costs)"
      ],
      "execution_count": null,
      "outputs": [
        {
          "output_type": "execute_result",
          "data": {
            "text/plain": [
              "[<matplotlib.lines.Line2D at 0x7f51427e3c90>]"
            ]
          },
          "metadata": {
            "tags": []
          },
          "execution_count": 26
        },
        {
          "output_type": "display_data",
          "data": {
            "image/png": "[encoded data removed]",
            "text/plain": [
              "<Figure size 432x288 with 1 Axes>"
            ]
          },
          "metadata": {
            "tags": [],
            "needs_background": "light"
          }
        }
      ]
    },
    {
      "cell_type": "markdown",
      "metadata": {
        "id": "5dXDxqG-teTa"
      },
      "source": [
        "دقت این الگوریتم ۸۷ درصد میباشد. روی این تعداد داده‌ی آموزش."
      ]
    },
    {
      "cell_type": "code",
      "metadata": {
        "colab": {
          "base_uri": "https://localhost:8080/"
        },
        "id": "S6vguphhMHsA",
        "outputId": "1f47feb4-cea1-4755-e01a-2da4252924e3"
      },
      "source": [
        "set_f = train_set[:100]\n",
        "result = []\n",
        "l = []\n",
        "for f in set_f:\n",
        "  x = f[0]\n",
        "  y = f[1]\n",
        "  a, z = calculate_output(x,W_f,b_f)\n",
        "  result.append(np.argmax(a[2]))\n",
        "  l.append(np.argmax(f[1]))\n",
        "accur = sum(1 for x,y in zip(l,result) if x == y) / 100\n",
        "accur"
      ],
      "execution_count": null,
      "outputs": [
        {
          "output_type": "execute_result",
          "data": {
            "text/plain": [
              "0.87"
            ]
          },
          "metadata": {
            "tags": []
          },
          "execution_count": 27
        }
      ]
    },
    {
      "cell_type": "markdown",
      "metadata": {
        "id": "h16lg8JFtijI"
      },
      "source": [
        "حال که از صحت عملکرد الگوریتم مطمئن شدیم آن را روی تمام ۶۰هزار داده‌ی موجود آموزش میدهیم. اینکار در حدود ۵ دقیقه طول میکشد."
      ]
    },
    {
      "cell_type": "code",
      "metadata": {
        "colab": {
          "base_uri": "https://localhost:8080/"
        },
        "id": "0NP86K6ENXqc",
        "outputId": "a655253a-8356-4e60-a747-ecb9b6fefbf2"
      },
      "source": [
        "W_trained, b_trained, costs = V_SGD(train_set,batch_size = 5,learning_rate = 1, number_of_epochs = 5,end = 60000)"
      ],
      "execution_count": null,
      "outputs": [
        {
          "output_type": "stream",
          "text": [
            "100%|██████████| 5/5 [05:44<00:00, 68.86s/it]\n"
          ],
          "name": "stderr"
        }
      ]
    },
    {
      "cell_type": "markdown",
      "metadata": {
        "id": "_Npe6kLvtpxW"
      },
      "source": [
        "حال نمودار خطای این الگوریتم را رسم میکنیم که باز هم کاملا نزولی می‌باشد."
      ]
    },
    {
      "cell_type": "code",
      "metadata": {
        "colab": {
          "base_uri": "https://localhost:8080/",
          "height": 283
        },
        "id": "Y1PzZYSOJCnq",
        "outputId": "719e9a63-13f6-4244-f46a-fd3380f71e5a"
      },
      "source": [
        "plt.plot(costs)"
      ],
      "execution_count": null,
      "outputs": [
        {
          "output_type": "execute_result",
          "data": {
            "text/plain": [
              "[<matplotlib.lines.Line2D at 0x7f51427bdd90>]"
            ]
          },
          "metadata": {
            "tags": []
          },
          "execution_count": 29
        },
        {
          "output_type": "display_data",
          "data": {
            "image/png": "[encoded data removed]",
            "text/plain": [
              "<Figure size 432x288 with 1 Axes>"
            ]
          },
          "metadata": {
            "tags": [],
            "needs_background": "light"
          }
        }
      ]
    },
    {
      "cell_type": "markdown",
      "metadata": {
        "id": "4_lYiyGltwg3"
      },
      "source": [
        "حال دقت را روی همان داده‌های آموزش اندازه‌گیری میکنیم"
      ]
    },
    {
      "cell_type": "code",
      "metadata": {
        "id": "2BlX7L4BF_sB"
      },
      "source": [
        "set_f = train_set\n",
        "result = []\n",
        "l = []\n",
        "for f in set_f:\n",
        "  x = f[0]\n",
        "  y = f[1]\n",
        "  a, z = calculate_output(x,W_trained,b_trained)\n",
        "  result.append(np.argmax(a[2]))\n",
        "  l.append(np.argmax(f[1]))"
      ],
      "execution_count": null,
      "outputs": []
    },
    {
      "cell_type": "code",
      "metadata": {
        "colab": {
          "base_uri": "https://localhost:8080/"
        },
        "id": "i6i6wTQ1G4ox",
        "outputId": "4e82f75f-267a-4d5a-ffc2-976fd0a05fd8"
      },
      "source": [
        "accur = sum(1 for x,y in zip(l,result) if x == y) / len(set_f) * 100\n",
        "print(f\"accuracy is {accur}%\")"
      ],
      "execution_count": null,
      "outputs": [
        {
          "output_type": "stream",
          "text": [
            "accuracy is 88.75666666666666%\n"
          ],
          "name": "stdout"
        }
      ]
    },
    {
      "cell_type": "markdown",
      "metadata": {
        "id": "9WmvHBiIt25A"
      },
      "source": [
        "دقت روی داده‌های آموزش ۸۸ درصد بود حال دقت را روی تست اندازه میگیریم."
      ]
    },
    {
      "cell_type": "code",
      "metadata": {
        "id": "tH0zVVUYR6DB"
      },
      "source": [
        "set_t = test_set\n",
        "result = []\n",
        "l = []\n",
        "for f in set_t:\n",
        "  x = f[0]\n",
        "  y = f[1]\n",
        "  a, z = calculate_output(x,W_trained,b_trained)\n",
        "  result.append(np.argmax(a[2]))\n",
        "  l.append(np.argmax(f[1]))"
      ],
      "execution_count": null,
      "outputs": []
    },
    {
      "cell_type": "code",
      "metadata": {
        "colab": {
          "base_uri": "https://localhost:8080/"
        },
        "id": "jUq2g4R0dm16",
        "outputId": "31be97fe-3b3b-45ac-b2e2-7d0228e25cb4"
      },
      "source": [
        "accur = sum(1 for x,y in zip(l,result) if x == y) / len(set_t) * 100\n",
        "print(f\"accuracy is {accur}%\")"
      ],
      "execution_count": null,
      "outputs": [
        {
          "output_type": "stream",
          "text": [
            "accuracy is 88.83%\n"
          ],
          "name": "stdout"
        }
      ]
    },
    {
      "cell_type": "markdown",
      "metadata": {
        "id": "VjpB_Gggt8oE"
      },
      "source": [
        "حال که روی هر دو داده‌ی تست و آموزش نزدیک به ۹۰ درصد دقت داشتیم داده‌های تست را شیفت میدهیم و دقت را روی داده‌های جدید اندازه میگیریم."
      ]
    },
    {
      "cell_type": "code",
      "metadata": {
        "id": "l2JN5cC_WOIc"
      },
      "source": [
        "from scipy.ndimage.interpolation import shift"
      ],
      "execution_count": null,
      "outputs": []
    },
    {
      "cell_type": "markdown",
      "metadata": {
        "id": "z_S_6mfUuFwA"
      },
      "source": [
        "همانطور که در دو شکل پایین واضح است با شیفت دادن تصاویر تغییر محسوسی در آن‌ها ایجاد نمیشود و به چشم ما کاملا یکسان می‌آیند. حال باید ببینم شبکه‌ی عصبی ما توان تشخیص آن‌ها را دارد یا گول میخورد."
      ]
    },
    {
      "cell_type": "code",
      "metadata": {
        "colab": {
          "base_uri": "https://localhost:8080/",
          "height": 266
        },
        "id": "5CFGPHZUW6qY",
        "outputId": "43780667-651a-4fa9-ca0e-2a6ae78cb7df"
      },
      "source": [
        "x = [test_set[0][0]]\n",
        "y = [np.argmax(test_set[0][1])]\n",
        "show_img(0,x,y)\n",
        "# print(y)"
      ],
      "execution_count": null,
      "outputs": [
        {
          "output_type": "stream",
          "text": [
            "7\n"
          ],
          "name": "stdout"
        },
        {
          "output_type": "display_data",
          "data": {
            "image/png": "[encoded data removed]",
            "text/plain": [
              "<Figure size 432x288 with 1 Axes>"
            ]
          },
          "metadata": {
            "tags": [],
            "needs_background": "light"
          }
        }
      ]
    },
    {
      "cell_type": "code",
      "metadata": {
        "colab": {
          "base_uri": "https://localhost:8080/",
          "height": 266
        },
        "id": "mI6R31w1Xo4z",
        "outputId": "05d05df7-9fae-4557-c61e-4fd920475809"
      },
      "source": [
        "x_s = shift(x, [0,4])\n",
        "show_img(0,[x_s],y)"
      ],
      "execution_count": null,
      "outputs": [
        {
          "output_type": "stream",
          "text": [
            "7\n"
          ],
          "name": "stdout"
        },
        {
          "output_type": "display_data",
          "data": {
            "image/png": "[encoded data removed]",
            "text/plain": [
              "<Figure size 432x288 with 1 Axes>"
            ]
          },
          "metadata": {
            "tags": [],
            "needs_background": "light"
          }
        }
      ]
    },
    {
      "cell_type": "code",
      "metadata": {
        "id": "tfekr6nGdxYA"
      },
      "source": [
        "shifted_test_set = []\n",
        "for a_set in test_set:\n",
        "  x = a_set[0]\n",
        "  y = a_set[1]\n",
        "  x1 = shift([x],[0,4]).reshape(784,)\n",
        "  my_set = (x1, y)\n",
        "  shifted_test_set.append(my_set)"
      ],
      "execution_count": null,
      "outputs": []
    },
    {
      "cell_type": "code",
      "metadata": {
        "colab": {
          "base_uri": "https://localhost:8080/"
        },
        "id": "yyOf2GXadybl",
        "outputId": "260c82dd-68ee-4096-d551-ff9ad6f838cd"
      },
      "source": [
        "set_t = shifted_test_set\n",
        "result = []\n",
        "l = []\n",
        "\n",
        "for f in set_t:\n",
        "  x = f[0]\n",
        "  y = f[1]\n",
        "  a, z = calculate_output(x,W_trained,b_trained)\n",
        "  result.append(np.argmax(a[2]))\n",
        "  l.append(np.argmax(f[1]))\n",
        "accur = sum(1 for x,y in zip(l,result) if x == y) / len(set_t) * 100\n",
        "print(f\"accuracy is {accur}%\")"
      ],
      "execution_count": null,
      "outputs": [
        {
          "output_type": "stream",
          "text": [
            "accuracy is 27.72%\n"
          ],
          "name": "stdout"
        }
      ]
    },
    {
      "cell_type": "markdown",
      "metadata": {
        "id": "r0Uj5_RIuT3C"
      },
      "source": [
        "مدل ما به راحتی گول میخورد و دقت آن از ۹۰ درصد به کمتر از ۳۰ درصد میرسد."
      ]
    },
    {
      "cell_type": "code",
      "metadata": {
        "id": "XdRhdizNeARA"
      },
      "source": [
        "def tanh_deriv(x):\n",
        "  return 1-np.tanh(x)**2"
      ],
      "execution_count": null,
      "outputs": []
    },
    {
      "cell_type": "markdown",
      "metadata": {
        "id": "KkU2GwZBuaKI"
      },
      "source": [
        "در این قسمت همان الگوریتم را با تابع فعال‌سازی تانژانت هایپربولیک تست میکنیم."
      ]
    },
    {
      "cell_type": "code",
      "metadata": {
        "id": "ENRitc9wkWe3"
      },
      "source": [
        "def tanh_calculate_output(x,W,b):\n",
        "  z = [0,0,0]\n",
        "  a = [0,0,0]\n",
        "  z[0] = np.matmul(W[0], x).reshape(16,1)+b[0]\n",
        "  a[0] = np.tanh(z[0])\n",
        "  z[1] = np.matmul(W[1], a[0]).reshape(16,1)+b[1]\n",
        "  a[1] = np.tanh(z[1])\n",
        "  z[2] = np.matmul(W[2], a[1]).reshape(10,1)+b[2]\n",
        "  a[2] = np.tanh(z[2])\n",
        "  return a,z"
      ],
      "execution_count": null,
      "outputs": []
    },
    {
      "cell_type": "code",
      "metadata": {
        "id": "7nmGLjqhj8xp"
      },
      "source": [
        "def tanh_V_SGD(train_set, batch_size, learning_rate,number_of_epochs,end):\n",
        "  # batch_size = 10\n",
        "  # learning_rate = 1\n",
        "  # number_of_epochs = 40\n",
        "  W, b = generate_rand()\n",
        "  costs = []\n",
        "  my_set = train_set[:end].copy()\n",
        "  # print(len(my_set))\n",
        "  for i in tqdm(range(number_of_epochs)):\n",
        "    cost = 0\n",
        "    print(i)\n",
        "    np.random.shuffle(my_set)\n",
        "    batchs = []\n",
        "    for i1 in tqdm(range(0,len(my_set),batch_size)):\n",
        "      batchs.append(my_set[i1:i1+batch_size])\n",
        "    # print(f\"len batch {len(batchs)}\")\n",
        "    for batch in batchs:\n",
        "      W2_grad = np.zeros((10,16))\n",
        "      b2_grad = np.zeros((10,1))\n",
        "      a2_grad = np.zeros((16,1))\n",
        "      W1_grad = np.zeros((16,16))\n",
        "      b1_grad = np.zeros((16,1))\n",
        "      a1_grad = np.zeros((16,1))\n",
        "      W0_grad = np.zeros((16,784))\n",
        "      b0_grad = np.zeros((16,1))\n",
        "      W_grad = [W0_grad, W1_grad, W2_grad]\n",
        "      b_grad = [b0_grad, b1_grad, b2_grad]\n",
        "      for image in batch:\n",
        "        x = image[0]\n",
        "        y = image[1]\n",
        "        # print(f\"y : {np.argmax(y)}\")\n",
        "        a, z = calculate_output(x,W,b)\n",
        "        # print(f\"pred : {np.argmax(a[2])}\")\n",
        "        cost += calculate_cost(a[2],y)\n",
        "        b_grad[2] += 2*tanh_deriv(z[2])*(a[2]-y)\n",
        "        W_grad[2] += (2*tanh_deriv(z[2])*(a[2]-y)) @ np.transpose(a[1])\n",
        "        a2_grad += np.transpose(W[2]) @ (2*tanh_deriv(z[2]) * (a[2]-y))\n",
        "        b_grad[1] += a2_grad * tanh_deriv(z[1])\n",
        "        W_grad[1] += a2_grad * tanh_deriv(z[1]) @ np.transpose(a[0])\n",
        "        a1_grad += np.transpose(W[1]) @ (a2_grad * tanh_deriv(z[1]))\n",
        "        b_grad[0] += a1_grad * tanh_deriv(z[0])\n",
        "        x = x.reshape(784,1)\n",
        "        W_grad[0] += (a1_grad * tanh_deriv(z[0])) @ np.transpose(x)\n",
        "      b[2] = b[2] - learning_rate * (b_grad[2]/batch_size)\n",
        "      W[2] = W[2] - learning_rate * (W_grad[2]/batch_size)\n",
        "      b[1] = b[1] - learning_rate * (b_grad[1]/batch_size)\n",
        "      W[1] = W[1] - learning_rate * (W_grad[1]/batch_size)\n",
        "      b[0] = b[0] - learning_rate * (b_grad[0]/batch_size)\n",
        "      W[0] = W[0] - learning_rate * (W_grad[0]/batch_size)\n",
        "    costs.append(cost/len(my_set))\n",
        "  return W,b,costs"
      ],
      "execution_count": null,
      "outputs": []
    },
    {
      "cell_type": "code",
      "metadata": {
        "colab": {
          "base_uri": "https://localhost:8080/"
        },
        "id": "Ba3QsiX2ol0D",
        "outputId": "313cb081-6a47-4e4b-e7a9-2d039c868913"
      },
      "source": [
        "W_f, b_f, costs = tanh_V_SGD(train_set, batch_size = 10, learning_rate = 0.05, number_of_epochs = 10, end = 60000)"
      ],
      "execution_count": null,
      "outputs": [
        {
          "output_type": "stream",
          "text": [
            "  0%|          | 0/10 [00:00<?, ?it/s]\n",
            "100%|██████████| 6000/6000 [00:00<00:00, 381763.11it/s]\n"
          ],
          "name": "stderr"
        },
        {
          "output_type": "stream",
          "text": [
            "0\n"
          ],
          "name": "stdout"
        },
        {
          "output_type": "stream",
          "text": [
            " 10%|█         | 1/10 [00:32<04:53, 32.56s/it]\n",
            "100%|██████████| 6000/6000 [00:00<00:00, 315065.09it/s]\n"
          ],
          "name": "stderr"
        },
        {
          "output_type": "stream",
          "text": [
            "1\n"
          ],
          "name": "stdout"
        },
        {
          "output_type": "stream",
          "text": [
            " 20%|██        | 2/10 [01:04<04:20, 32.52s/it]\n",
            "100%|██████████| 6000/6000 [00:00<00:00, 331722.87it/s]\n"
          ],
          "name": "stderr"
        },
        {
          "output_type": "stream",
          "text": [
            "2\n"
          ],
          "name": "stdout"
        },
        {
          "output_type": "stream",
          "text": [
            " 30%|███       | 3/10 [01:37<03:46, 32.43s/it]\n",
            "100%|██████████| 6000/6000 [00:00<00:00, 356830.45it/s]\n"
          ],
          "name": "stderr"
        },
        {
          "output_type": "stream",
          "text": [
            "3\n"
          ],
          "name": "stdout"
        },
        {
          "output_type": "stream",
          "text": [
            " 40%|████      | 4/10 [02:09<03:14, 32.43s/it]\n",
            "100%|██████████| 6000/6000 [00:00<00:00, 421757.09it/s]\n"
          ],
          "name": "stderr"
        },
        {
          "output_type": "stream",
          "text": [
            "4\n"
          ],
          "name": "stdout"
        },
        {
          "output_type": "stream",
          "text": [
            " 50%|█████     | 5/10 [02:41<02:41, 32.36s/it]\n",
            "100%|██████████| 6000/6000 [00:00<00:00, 322506.46it/s]\n"
          ],
          "name": "stderr"
        },
        {
          "output_type": "stream",
          "text": [
            "5\n"
          ],
          "name": "stdout"
        },
        {
          "output_type": "stream",
          "text": [
            " 60%|██████    | 6/10 [03:13<02:09, 32.30s/it]\n",
            "100%|██████████| 6000/6000 [00:00<00:00, 407207.39it/s]\n"
          ],
          "name": "stderr"
        },
        {
          "output_type": "stream",
          "text": [
            "6\n"
          ],
          "name": "stdout"
        },
        {
          "output_type": "stream",
          "text": [
            " 70%|███████   | 7/10 [03:46<01:36, 32.22s/it]\n",
            "100%|██████████| 6000/6000 [00:00<00:00, 364225.90it/s]\n"
          ],
          "name": "stderr"
        },
        {
          "output_type": "stream",
          "text": [
            "7\n"
          ],
          "name": "stdout"
        },
        {
          "output_type": "stream",
          "text": [
            " 80%|████████  | 8/10 [04:17<01:04, 32.10s/it]\n",
            "100%|██████████| 6000/6000 [00:00<00:00, 366304.10it/s]\n"
          ],
          "name": "stderr"
        },
        {
          "output_type": "stream",
          "text": [
            "8\n"
          ],
          "name": "stdout"
        },
        {
          "output_type": "stream",
          "text": [
            " 90%|█████████ | 9/10 [04:49<00:31, 31.91s/it]\n",
            "100%|██████████| 6000/6000 [00:00<00:00, 444413.87it/s]\n"
          ],
          "name": "stderr"
        },
        {
          "output_type": "stream",
          "text": [
            "9\n"
          ],
          "name": "stdout"
        },
        {
          "output_type": "stream",
          "text": [
            "100%|██████████| 10/10 [05:19<00:00, 31.99s/it]\n"
          ],
          "name": "stderr"
        }
      ]
    },
    {
      "cell_type": "code",
      "metadata": {
        "colab": {
          "base_uri": "https://localhost:8080/",
          "height": 283
        },
        "id": "Q0eiYFwaor7F",
        "outputId": "3375d391-2136-4139-ce67-d4400f908325"
      },
      "source": [
        "plt.plot(costs)"
      ],
      "execution_count": null,
      "outputs": [
        {
          "output_type": "execute_result",
          "data": {
            "text/plain": [
              "[<matplotlib.lines.Line2D at 0x7f514bf64910>]"
            ]
          },
          "metadata": {
            "tags": []
          },
          "execution_count": 46
        },
        {
          "output_type": "display_data",
          "data": {
            "image/png": "[encoded data removed]",
            "text/plain": [
              "<Figure size 432x288 with 1 Axes>"
            ]
          },
          "metadata": {
            "tags": [],
            "needs_background": "light"
          }
        }
      ]
    },
    {
      "cell_type": "code",
      "metadata": {
        "id": "25bvwwHapTcH"
      },
      "source": [
        "set_f = train_set\n",
        "result = []\n",
        "l = []\n",
        "for f in set_f:\n",
        "  x = f[0]\n",
        "  y = f[1]\n",
        "  a, z = calculate_output(x,W_f,b_f)\n",
        "  result.append(np.argmax(a[2]))\n",
        "  l.append(np.argmax(f[1]))"
      ],
      "execution_count": null,
      "outputs": []
    },
    {
      "cell_type": "code",
      "metadata": {
        "colab": {
          "base_uri": "https://localhost:8080/"
        },
        "id": "6cLd74aMpv4M",
        "outputId": "22074b61-1d75-4ce9-ecf9-59279ec78851"
      },
      "source": [
        "accur = sum(1 for x,y in zip(l,result) if x == y) / len(set_f) * 100\n",
        "print(f\"accuracy is {accur}%\")"
      ],
      "execution_count": null,
      "outputs": [
        {
          "output_type": "stream",
          "text": [
            "accuracy is 70.34166666666667%\n"
          ],
          "name": "stdout"
        }
      ]
    },
    {
      "cell_type": "markdown",
      "metadata": {
        "id": "Mxg8g8dmufr5"
      },
      "source": [
        "دقت کمتر است ولی با تغییر دادن هایپرپارامترها میتوان آن را به بالای ۸۰ رساند."
      ]
    },
    {
      "cell_type": "markdown",
      "metadata": {
        "id": "vrR49LAI86SL"
      },
      "source": [
        "حال میخواهیم از الگوریتم \n",
        "\n",
        "batch gradient descent\n",
        "\n",
        "استفاده کنیم."
      ]
    },
    {
      "cell_type": "code",
      "metadata": {
        "id": "pdE1TBQGrggm"
      },
      "source": [
        "def BGD(train_set, learning_rate,number_of_epochs,end):\n",
        "  # batch_size = 10\n",
        "  # learning_rate = 1\n",
        "  # number_of_epochs = 40\n",
        "  W, b = generate_rand()\n",
        "  costs = []\n",
        "  my_set = train_set[:end].copy()\n",
        "  # print(len(my_set))\n",
        "  for i in tqdm(range(number_of_epochs)):\n",
        "    cost = 0\n",
        "    # print(i)\n",
        "    # np.random.shuffle(my_set)\n",
        "    # batchs = []\n",
        "    # for i1 in range(0,len(my_set),batch_size):\n",
        "      # batchs.append(my_set[i1:i1+batch_size])\n",
        "    # print(f\"len batch {len(batchs)}\")\n",
        "    # for batch in batchs:\n",
        "    W2_grad = np.zeros((10,16))\n",
        "    b2_grad = np.zeros((10,1))\n",
        "    a2_grad = np.zeros((16,1))\n",
        "    W1_grad = np.zeros((16,16))\n",
        "    b1_grad = np.zeros((16,1))\n",
        "    a1_grad = np.zeros((16,1))\n",
        "    W0_grad = np.zeros((16,784))\n",
        "    b0_grad = np.zeros((16,1))\n",
        "    W_grad = [W0_grad, W1_grad, W2_grad]\n",
        "    b_grad = [b0_grad, b1_grad, b2_grad]\n",
        "    for image in my_set:\n",
        "      x = image[0]\n",
        "      y = image[1]\n",
        "      # print(f\"y : {np.argmax(y)}\")\n",
        "      a, z = calculate_output(x,W,b)\n",
        "      # print(f\"pred : {np.argmax(a[2])}\")\n",
        "      cost += calculate_cost(a[2],y)\n",
        "      b_grad[2] += 2*sigmoid_deriv(z[2])*(a[2]-y)\n",
        "      W_grad[2] += (2*sigmoid_deriv(z[2])*(a[2]-y)) @ np.transpose(a[1])\n",
        "      a2_grad += np.transpose(W[2]) @ (2*sigmoid_deriv(z[2]) * (a[2]-y))\n",
        "      b_grad[1] += a2_grad * sigmoid_deriv(z[1])\n",
        "      W_grad[1] += a2_grad * sigmoid_deriv(z[1]) @ np.transpose(a[0])\n",
        "      a1_grad += np.transpose(W[1]) @ (a2_grad * sigmoid_deriv(z[1]))\n",
        "      b_grad[0] += a1_grad * sigmoid_deriv(z[0])\n",
        "      x = x.reshape(784,1)\n",
        "      W_grad[0] += (a1_grad * sigmoid_deriv(z[0])) @ np.transpose(x)\n",
        "    b[2] = b[2] - learning_rate * (b_grad[2]/len(my_set))\n",
        "    W[2] = W[2] - learning_rate * (W_grad[2]/len(my_set))\n",
        "    b[1] = b[1] - learning_rate * (b_grad[1]/len(my_set))\n",
        "    W[1] = W[1] - learning_rate * (W_grad[1]/len(my_set))\n",
        "    b[0] = b[0] - learning_rate * (b_grad[0]/len(my_set))\n",
        "    W[0] = W[0] - learning_rate * (W_grad[0]/len(my_set))\n",
        "    costs.append(cost/len(my_set))\n",
        "  return W,b,costs"
      ],
      "execution_count": null,
      "outputs": []
    },
    {
      "cell_type": "code",
      "metadata": {
        "colab": {
          "base_uri": "https://localhost:8080/"
        },
        "id": "p2O_z3hQ93dC",
        "outputId": "4c94952c-166b-4e78-aa03-1394effaa580"
      },
      "source": [
        "W_f, b_f, costs = BGD(train_set, learning_rate = 0.01, number_of_epochs = 200, end = 100)"
      ],
      "execution_count": null,
      "outputs": [
        {
          "output_type": "stream",
          "text": [
            "100%|██████████| 200/200 [00:23<00:00,  8.50it/s]\n"
          ],
          "name": "stderr"
        }
      ]
    },
    {
      "cell_type": "code",
      "metadata": {
        "colab": {
          "base_uri": "https://localhost:8080/",
          "height": 283
        },
        "id": "T5JcNDa197YS",
        "outputId": "f317db3c-f7a2-4ff6-d454-3133c78cbfac"
      },
      "source": [
        "plt.plot(costs)"
      ],
      "execution_count": null,
      "outputs": [
        {
          "output_type": "execute_result",
          "data": {
            "text/plain": [
              "[<matplotlib.lines.Line2D at 0x7f5140f3b110>]"
            ]
          },
          "metadata": {
            "tags": []
          },
          "execution_count": 78
        },
        {
          "output_type": "display_data",
          "data": {
            "image/png": "[encoded data removed]",
            "text/plain": [
              "<Figure size 432x288 with 1 Axes>"
            ]
          },
          "metadata": {
            "tags": [],
            "needs_background": "light"
          }
        }
      ]
    },
    {
      "cell_type": "code",
      "metadata": {
        "colab": {
          "base_uri": "https://localhost:8080/"
        },
        "id": "WqHc-Idl-ZQM",
        "outputId": "7f41c6c7-fe85-4394-d2c1-f4727ae00c71"
      },
      "source": [
        "set_f = train_set[:100]\n",
        "result = []\n",
        "l = []\n",
        "for f in set_f:\n",
        "  x = f[0]\n",
        "  y = f[1]\n",
        "  a, z = calculate_output(x,W_f,b_f)\n",
        "  result.append(np.argmax(a[2]))\n",
        "  l.append(np.argmax(f[1]))\n",
        "accur = sum(1 for x,y in zip(l,result) if x == y) / 100\n",
        "accur"
      ],
      "execution_count": null,
      "outputs": [
        {
          "output_type": "execute_result",
          "data": {
            "text/plain": [
              "0.12"
            ]
          },
          "metadata": {
            "tags": []
          },
          "execution_count": 79
        }
      ]
    },
    {
      "cell_type": "code",
      "metadata": {
        "colab": {
          "base_uri": "https://localhost:8080/"
        },
        "id": "oY0qLP5F_4lW",
        "outputId": "250be846-17f7-4f78-afa0-c92ff0a7d5c8"
      },
      "source": [
        "W_f, b_f, costs = BGD(train_set, learning_rate = 1, number_of_epochs = 5, end = 60000)"
      ],
      "execution_count": null,
      "outputs": [
        {
          "output_type": "stream",
          "text": [
            "100%|██████████| 5/5 [05:29<00:00, 65.81s/it]\n"
          ],
          "name": "stderr"
        }
      ]
    },
    {
      "cell_type": "code",
      "metadata": {
        "colab": {
          "base_uri": "https://localhost:8080/",
          "height": 283
        },
        "id": "IXmIY-aN_-eC",
        "outputId": "4e367e5e-6260-485f-efc3-e0bc693841a7"
      },
      "source": [
        " plt.plot(costs)"
      ],
      "execution_count": null,
      "outputs": [
        {
          "output_type": "execute_result",
          "data": {
            "text/plain": [
              "[<matplotlib.lines.Line2D at 0x7f5141eaa650>]"
            ]
          },
          "metadata": {
            "tags": []
          },
          "execution_count": 81
        },
        {
          "output_type": "display_data",
          "data": {
            "image/png": "[encoded data removed]",
            "text/plain": [
              "<Figure size 432x288 with 1 Axes>"
            ]
          },
          "metadata": {
            "tags": [],
            "needs_background": "light"
          }
        }
      ]
    },
    {
      "cell_type": "code",
      "metadata": {
        "id": "ydRynYdRBXD8"
      },
      "source": [
        ""
      ],
      "execution_count": null,
      "outputs": []
    }
  ]
}